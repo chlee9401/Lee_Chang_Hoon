{
  "nbformat": 4,
  "nbformat_minor": 0,
  "metadata": {
    "colab": {
      "name": "Untitled8.ipynb",
      "provenance": [],
      "include_colab_link": true
    },
    "kernelspec": {
      "name": "python3",
      "display_name": "Python 3"
    }
  },
  "cells": [
    {
      "cell_type": "markdown",
      "metadata": {
        "id": "view-in-github",
        "colab_type": "text"
      },
      "source": [
        "<a href=\"https://colab.research.google.com/github/chlee9401/Lee_Chang_Hoon/blob/master/%EC%97%B4%EC%9C%A0%EC%B2%B4%EA%B3%B5%ED%95%99%EC%8B%A4%ED%97%98-2015011167-HW04.ipynb\" target=\"_parent\"><img src=\"https://colab.research.google.com/assets/colab-badge.svg\" alt=\"Open In Colab\"/></a>"
      ]
    },
    {
      "cell_type": "code",
      "metadata": {
        "id": "dWeu2bsyA9yr",
        "colab_type": "code",
        "colab": {}
      },
      "source": [
        "import numpy as np\n",
        "from numba import jit, vectorize, cuda\n",
        "\n",
        "gugudan_name=[\"Normal Gugudan\", \"Numpy Gugudan\", \"Numba Gugudan\", \"Cuda Gugudan\"]\n",
        "gugudan=[]\n",
        "time=[]\n",
        "\n",
        "numpy_list=np.arange(1,10)\n",
        "def normal_gugudan(x):\n",
        "  return list(range(x, x*10, x))\n",
        "def numpy_gugudan(x):\n",
        "  return np.multiply(x, numpy_list)\n",
        "@jit(nopython=True)\n",
        "def numba_gugudan(x):\n",
        "  return np.multiply(x, numpy_list)\n",
        "@vectorize(['int64(int64, int64)'], target='cuda')\n",
        "def cuda_gugudan(x,y):\n",
        "  return x*y\n",
        "\n",
        "integer=int(input(\"input an integer:\"))\n",
        "\n",
        "gugudan.append(normal_gugudan(integer))\n",
        "gugudan.append(numpy_gugudan(integer))\n",
        "gugudan.append(numba_gugudan(integer))\n",
        "gugudan.append(cuda_gugudan(integer,numpy_list))\n",
        "\n",
        "for i in range(len(gugudan_name)):\n",
        "  print(gugudan_name[i])\n",
        "  for j in range(numpy_list.shape[0]):\n",
        "    print(gugudan[i][j])\n",
        "    print()\n",
        "print(\"Normal Gugudan Compiling Time(s):\", end=\"\")\n",
        "%timeit normal_gugudan\n",
        "print(\"Numpy Gugudan Compiling Time(s):\", end=\"\")\n",
        "%timeit numpy_gugudan\n",
        "print(\"Numba Gugudan Compiling Time(s):\", end=\"\")\n",
        "%timeit numba_gugudan\n",
        "print(\"Cuda Gugudan Compiling TIme(s):\", end=\"\")\n",
        "%timeit cuda_gugudan\n"
      ],
      "execution_count": 0,
      "outputs": []
    }
  ]
}